{
  "cells": [
    {
      "cell_type": "code",
      "execution_count": 1,
      "metadata": {},
      "outputs": [
        {
          "name": "stdout",
          "output_type": "stream",
          "text": [
            "Dimensões do DataFrame: (1465, 22)\n",
            "\n",
            "Primeiras linhas:\n",
            "   ItemNumber                                              frase  \\\n",
            "0           1  Você sabia que o menino que mais vai te dar va...   \n",
            "1           2  Hoje com 21 anos, como que por auxilio lá do a...   \n",
            "2           3  Nesse momento to evitando ela, e ta me dando u...   \n",
            "3           4  Meus sentidos de garota diziam que tinha algum...   \n",
            "4           5  Aquela promessa que eu te fiz naquele natal, e...   \n",
            "\n",
            "   cla_maj_femi  qtd_maj_femi  cla_maj_masc  qtd_maj_masc  f1_class  f2_class  \\\n",
            "0  positiva                 4  positiva                 4  positiva  positiva   \n",
            "1  positiva                 4  positiva                 3  positiva  positiva   \n",
            "2  negativa                 3  negativa                 2  negativa  negativa   \n",
            "3  neutra                   2  neutra                   3  neutra    negativa   \n",
            "4  positiva                 3  positiva                 3  positiva  positiva   \n",
            "\n",
            "   f3_class  f4_class  ...  m3_class  m4_class f1_tempo f2_tempo  f3_tempo  \\\n",
            "0  positiva  positiva  ...  positiva  positiva   30.117  293.973    21.735   \n",
            "1  positiva  positiva  ...  positiva  positiva   13.839  237.617    83.358   \n",
            "2  negativa  neutra    ...  negativa  neutra     15.344   13.894     8.584   \n",
            "3  neutra    positiva  ...  neutra    neutra     16.747   16.986    10.610   \n",
            "4  negativa  positiva  ...  positiva  neutra      8.405   14.191     3.900   \n",
            "\n",
            "   f4_tempo  m1_tempo  m2_tempo  m3_tempo  m4_tempo  \n",
            "0    39.664   105.630    16.967   299.204    14.928  \n",
            "1    24.249    22.499     9.802    11.472     6.073  \n",
            "2   133.325    20.098     8.170    16.590    13.952  \n",
            "3    10.337    33.871    11.848    22.167     9.798  \n",
            "4     5.129     8.789     3.306     5.719     4.554  \n",
            "\n",
            "[5 rows x 22 columns]\n",
            "\n",
            "Colunas disponíveis:\n",
            "['ItemNumber', 'frase', 'cla_maj_femi', 'qtd_maj_femi', 'cla_maj_masc', 'qtd_maj_masc', 'f1_class', 'f2_class', 'f3_class', 'f4_class', 'm1_class', 'm2_class', 'm3_class', 'm4_class', 'f1_tempo', 'f2_tempo', 'f3_tempo', 'f4_tempo', 'm1_tempo', 'm2_tempo', 'm3_tempo', 'm4_tempo']\n"
          ]
        }
      ],
      "source": [
        "# Carregar o CSV com tratamento adequado para campos com vírgulas\n",
        "import csv\n",
        "import pandas as pd\n",
        "import numpy as np\n",
        "import matplotlib.pyplot as plt\n",
        "from sklearn.metrics import cohen_kappa_score\n",
        "\n",
        "# Carregar o CSV usando pandas diretamente, com parâmetros específicos para lidar com as aspas\n",
        "df = pd.read_csv(\n",
        "    \"dados/MQD_1465_final.csv\",\n",
        "    sep=',',              # separador de colunas\n",
        "    quoting=csv.QUOTE_ALL,# trata todos os campos como strings entre aspas\n",
        "    quotechar='\"',        # caractere de aspas\n",
        "    skipinitialspace=True # remove espaços após as vírgulas\n",
        ")\n",
        "\n",
        "# Remover espaços em branco dos nomes das colunas\n",
        "df.columns = df.columns.str.strip()\n",
        "\n",
        "# Verificar o tamanho do arquivo e as primeiras linhas\n",
        "print(\"Dimensões do DataFrame:\", df.shape)\n",
        "print(\"\\nPrimeiras linhas:\")\n",
        "print(df.head())\n",
        "\n",
        "# Verificar nomes das colunas\n",
        "print(\"\\nColunas disponíveis:\")\n",
        "print(df.columns.tolist())"
      ]
    },
    {
      "cell_type": "code",
      "execution_count": 2,
      "metadata": {
        "colab": {
          "base_uri": "https://localhost:8080/"
        },
        "collapsed": true,
        "id": "MaLGVec9fJx3",
        "outputId": "4918280f-b90e-4bf5-de99-bbc4df64821f"
      },
      "outputs": [
        {
          "name": "stdout",
          "output_type": "stream",
          "text": [
            "Distribuição cla_maj_masc:\n",
            "cla_maj_masc\n",
            "positiva        619\n",
            "negativa        514\n",
            "neutra          332\n",
            "Name: count, dtype: int64\n",
            "\n",
            "Distribuição cla_maj_femi:\n",
            "cla_maj_femi\n",
            "positiva        514\n",
            "negativa        503\n",
            "neutra          448\n",
            "Name: count, dtype: int64\n"
          ]
        }
      ],
      "source": [
        "# Remover espaços em branco dos nomes das colunas\n",
        "df.columns = df.columns.str.strip()\n",
        "\n",
        "# Distribuição das classes majoritárias masculinas\n",
        "print(\"Distribuição cla_maj_masc:\")\n",
        "print(df['cla_maj_masc'].value_counts(dropna=False))\n",
        "\n",
        "# Distribuição das classes majoritárias femininas\n",
        "print(\"\\nDistribuição cla_maj_femi:\")\n",
        "print(df['cla_maj_femi'].value_counts(dropna=False))\n"
      ]
    },
    {
      "cell_type": "code",
      "execution_count": 3,
      "metadata": {
        "colab": {
          "base_uri": "https://localhost:8080/"
        },
        "collapsed": true,
        "id": "WWftSDyBfVBg",
        "outputId": "d7f0b276-9ae5-4ee2-b361-3c84cf2014f0"
      },
      "outputs": [
        {
          "name": "stdout",
          "output_type": "stream",
          "text": [
            "\n",
            "Crosstab das classes masculinas x femininas:\n",
            "cla_maj_femi  negativa      neutra        positiva    \n",
            "cla_maj_masc                                          \n",
            "negativa               435            65            14\n",
            "neutra                  36           253            43\n",
            "positiva                32           130           457\n"
          ]
        }
      ],
      "source": [
        "# Aplicando um crosstab para comparar as congruências entre gêneros\n",
        "ct = pd.crosstab(df['cla_maj_masc'], df['cla_maj_femi'])\n",
        "print(\"\\nCrosstab das classes masculinas x femininas:\")\n",
        "print(ct)\n",
        "\n",
        "#concordancia: 78,15%\n",
        "#discordancia: 21,84%\n"
      ]
    },
    {
      "cell_type": "code",
      "execution_count": null,
      "metadata": {
        "colab": {
          "base_uri": "https://localhost:8080/",
          "height": 1000
        },
        "collapsed": true,
        "id": "ppez3iBqgs3e",
        "outputId": "7a57d88e-08de-4f82-d387-d150ba8cec94"
      },
      "outputs": [],
      "source": [
        "# Plotando a distribuição das classes\n",
        "df['cla_maj_masc'].value_counts().plot(kind='bar')\n",
        "plt.title(\"Distribuição de Classes – Maioria Masculina\")\n",
        "plt.xlabel(\"Classes\")\n",
        "plt.ylabel(\"Frequência\")\n",
        "plt.show()\n",
        "\n",
        "df['cla_maj_femi'].value_counts().plot(kind='bar')\n",
        "plt.title(\"Distribuição de Classes – Maioria Feminina\")\n",
        "plt.xlabel(\"Classes\")\n",
        "plt.ylabel(\"Frequência\")\n",
        "plt.show()\n"
      ]
    },
    {
      "cell_type": "code",
      "execution_count": 4,
      "metadata": {
        "colab": {
          "base_uri": "https://localhost:8080/"
        },
        "id": "NWMVCe-MhNx6",
        "outputId": "334a7839-34e1-4070-9064-18140df22b7e"
      },
      "outputs": [
        {
          "name": "stdout",
          "output_type": "stream",
          "text": [
            "Estatística qui-quadrado: 1348.6461779395033, p-valor: 9.434416363071011e-291\n"
          ]
        }
      ],
      "source": [
        "# Aplicaçao de um teste de independência (qui-quadrado)\n",
        "from scipy.stats import chi2_contingency\n",
        "\n",
        "chi2, p, dof, expected = chi2_contingency(ct)\n",
        "print(f\"Estatística qui-quadrado: {chi2}, p-valor: {p}\")\n"
      ]
    },
    {
      "cell_type": "code",
      "execution_count": 5,
      "metadata": {
        "colab": {
          "base_uri": "https://localhost:8080/"
        },
        "id": "C-zAlckKh_qk",
        "outputId": "2dff44a3-701e-49e0-e622-4d1d4542d2f4"
      },
      "outputs": [
        {
          "name": "stdout",
          "output_type": "stream",
          "text": [
            "Kappa de Fleiss (avaliadores masculinos): 0.2631\n",
            "Kappa de Fleiss (avaliadoras femininas): 0.1377\n",
            "Kappa de Fleiss (todos os avaliadores): 0.2738\n"
          ]
        }
      ],
      "source": [
        "# Calculo do Kappa de Fleiss\n",
        "def fleiss_kappa(data_matrix):\n",
        "    \"\"\"\n",
        "    Calcula o Kappa de Fleiss para uma matriz de contagens.\n",
        "    Cada linha da matriz corresponde a um item,\n",
        "    e cada coluna corresponde a uma categoria,\n",
        "    contendo quantas vezes aquela categoria foi atribuída.\n",
        "\n",
        "    Parâmetros\n",
        "    ----------\n",
        "    data_matrix : numpy.ndarray\n",
        "        Matriz (itens x categorias).\n",
        "\n",
        "    Retorno\n",
        "    -------\n",
        "    float\n",
        "        Valor do Kappa de Fleiss.\n",
        "    \"\"\"\n",
        "    N, k = data_matrix.shape  # N itens, k categorias\n",
        "    n = np.sum(data_matrix[0])  # número de avaliadores por item (supõe-se o mesmo em todas as linhas)\n",
        "\n",
        "    # P_i (índice de concordância) para cada item\n",
        "    P_i = []\n",
        "    for i in range(N):\n",
        "        row = data_matrix[i, :]\n",
        "        row_sum_sq = np.sum(row ** 2)\n",
        "        # fórmula do P_i = (Σ(n_ij^2) - n) / [n * (n - 1)]\n",
        "        P_i_item = (row_sum_sq - n) / (n * (n - 1))\n",
        "        P_i.append(P_i_item)\n",
        "    P_bar = np.mean(P_i)  # média dos P_i\n",
        "\n",
        "    # p_j (proporção global de cada categoria j)\n",
        "    p_j = np.sum(data_matrix, axis=0) / (N * n)  # soma por coluna / (N * n)\n",
        "    P_bar_e = np.sum(p_j ** 2)  # soma dos quadrados das proporções\n",
        "\n",
        "    # Kappa de Fleiss\n",
        "    kappa = (P_bar - P_bar_e) / (1 - P_bar_e)\n",
        "    return kappa\n",
        "\n",
        "\n",
        "def compute_fleiss_kappa_for_raters(df, rater_cols, categories):\n",
        "    \"\"\"\n",
        "    Converte as colunas de classificadores em uma matriz de contagens\n",
        "    e calcula o Kappa de Fleiss.\n",
        "\n",
        "    Parâmetros\n",
        "    ----------\n",
        "    df : pd.DataFrame\n",
        "        DataFrame contendo as classificações.\n",
        "    rater_cols : list\n",
        "        Lista das colunas correspondentes aos avaliadores (e.g. ['f1_class','f2_class','m1_class','m2_class']).\n",
        "    categories : list\n",
        "        Lista de categorias possíveis (e.g. ['Positivo', 'Negativo', 'Neutro']).\n",
        "\n",
        "    Retorno\n",
        "    -------\n",
        "    float\n",
        "        Kappa de Fleiss para as colunas informadas.\n",
        "    \"\"\"\n",
        "    # Se houver valores ausentes (NaN) em alguma das colunas de rater, podemos removê-los:\n",
        "    df_valid = df.dropna(subset=rater_cols).copy()\n",
        "\n",
        "    # Criar uma matriz (itens x categorias) com contagens de quantos avaliadores deram determinada categoria\n",
        "    N = df_valid.shape[0]           # número de itens (linhas)\n",
        "    k = len(rater_cols)             # número de avaliadores\n",
        "    c = len(categories)             # número de categorias possíveis\n",
        "\n",
        "    data_matrix = np.zeros((N, c), dtype=int)\n",
        "\n",
        "    # Para cada item (linha), contamos quantos avaliadores classificaram em cada categoria\n",
        "    for i in range(N):\n",
        "        row_data = df_valid.iloc[i]\n",
        "        for col in rater_cols:\n",
        "            cat = row_data[col]\n",
        "            if cat in categories:\n",
        "                j = categories.index(cat)  # índice da categoria\n",
        "                data_matrix[i, j] += 1\n",
        "\n",
        "    # Finalmente, calculamos o Kappa de Fleiss\n",
        "    kappa_value = fleiss_kappa(data_matrix)\n",
        "    return kappa_value\n",
        "\n",
        "\n",
        "# -------------------\n",
        "# EXEMPLO DE USO\n",
        "# -------------------\n",
        "# Carrega o CSV\n",
        "# Attempt to read the CSV file while handling bad lines\n",
        "#df = pd.read_csv('dados/MQD_1465_final.csv', )\n",
        "\n",
        "# Define as colunas de avaliadores masculinos e femininos\n",
        "rater_cols_masc = ['m1_class','m2_class','m3_class','m4_class']  # Ajuste conforme seu dataset\n",
        "rater_cols_femi = ['f1_class','f2_class','f3_class','f4_class']  # Ajuste conforme seu dataset\n",
        "rater_cols_all  = rater_cols_masc + rater_cols_femi\n",
        "\n",
        "# Define as categorias possíveis\n",
        "categorias = ['positiva', 'negativa', 'neutra']\n",
        "\n",
        "# 1) Kappa de Fleiss apenas para avaliadores masculinos\n",
        "kappa_masc = compute_fleiss_kappa_for_raters(df, rater_cols_masc, categorias)\n",
        "print(f\"Kappa de Fleiss (avaliadores masculinos): {kappa_masc:.4f}\")\n",
        "\n",
        "# 2) Kappa de Fleiss apenas para avaliadores femininas\n",
        "kappa_femi = compute_fleiss_kappa_for_raters(df, rater_cols_femi, categorias)\n",
        "print(f\"Kappa de Fleiss (avaliadoras femininas): {kappa_femi:.4f}\")\n",
        "\n",
        "# 3) Kappa de Fleiss para todos os avaliadores combinados\n",
        "kappa_all = compute_fleiss_kappa_for_raters(df, rater_cols_all, categorias)\n",
        "print(f\"Kappa de Fleiss (todos os avaliadores): {kappa_all:.4f}\")\n"
      ]
    },
    {
      "cell_type": "code",
      "execution_count": 6,
      "metadata": {
        "colab": {
          "base_uri": "https://localhost:8080/"
        },
        "id": "tm7_51Mhn2Q1",
        "outputId": "c14398e6-4a7f-47cd-98ae-da160e191c21"
      },
      "outputs": [
        {
          "name": "stdout",
          "output_type": "stream",
          "text": [
            "Valores únicos em cla_maj_masc: ['positiva    ' 'negativa    ' 'neutra      ']\n",
            "Valores únicos em cla_maj_femi: ['positiva    ' 'negativa    ' 'neutra      ']\n",
            "Kappa de Cohen (cla_maj_masc vs cla_maj_femi): 0.6700\n"
          ]
        }
      ],
      "source": [
        "# Cálculo do Kappa de Cohen entre as Classes majoritárias\n",
        "# 1) Ler o arquivo CSV (ajuste o caminho conforme necessário)\n",
        "#df = pd.read_csv(\"dados/MQD_1465_final.csv\")\n",
        "\n",
        "# 2) Remover linhas em que cla_maj_masc ou cla_maj_femi estejam ausentes (NaN)\n",
        "df_valid = df.dropna(subset=[\"cla_maj_masc\", \"cla_maj_femi\"])\n",
        "\n",
        "# 3) (Opcional) Verificar se existem categorias inesperadas\n",
        "print(\"Valores únicos em cla_maj_masc:\", df_valid[\"cla_maj_masc\"].unique())\n",
        "print(\"Valores únicos em cla_maj_femi:\", df_valid[\"cla_maj_femi\"].unique())\n",
        "\n",
        "# Se houver diferenças de escrita (ex: \"positivo\", \"Positivo\"), pode ser preciso mapear\n",
        "# Exemplo:\n",
        "# mapping = {\"positivo\": \"Positivo\", \"negativo\": \"Negativo\", \"neutro\": \"Neutro\"}\n",
        "# df_valid[\"cla_maj_masc\"] = df_valid[\"cla_maj_masc\"].replace(mapping)\n",
        "# df_valid[\"cla_maj_femi\"] = df_valid[\"cla_maj_femi\"].replace(mapping)\n",
        "\n",
        "# 4) Calcular o Kappa de Cohen diretamente\n",
        "kappa_cohen = cohen_kappa_score(df_valid[\"cla_maj_masc\"], df_valid[\"cla_maj_femi\"])\n",
        "\n",
        "print(f\"Kappa de Cohen (cla_maj_masc vs cla_maj_femi): {kappa_cohen:.4f}\")\n"
      ]
    }
  ],
  "metadata": {
    "colab": {
      "provenance": []
    },
    "kernelspec": {
      "display_name": "Python 3",
      "name": "python3"
    },
    "language_info": {
      "codemirror_mode": {
        "name": "ipython",
        "version": 3
      },
      "file_extension": ".py",
      "mimetype": "text/x-python",
      "name": "python",
      "nbconvert_exporter": "python",
      "pygments_lexer": "ipython3",
      "version": "3.13.1"
    }
  },
  "nbformat": 4,
  "nbformat_minor": 0
}
