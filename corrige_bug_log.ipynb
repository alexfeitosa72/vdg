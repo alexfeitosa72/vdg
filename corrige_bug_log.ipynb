{
 "cells": [
  {
   "cell_type": "code",
   "execution_count": 4,
   "id": "15f84933",
   "metadata": {},
   "outputs": [],
   "source": [
    "import csv\n",
    "import pandas as pd\n",
    "\n",
    "with open(\"dados/MQD_1465_final.csv\", encoding='utf-8') as f:\n",
    "    reader = csv.reader(f, delimiter=',', quotechar='\"', skipinitialspace=True)\n",
    "    data = list(reader)\n",
    "\n",
    "# Criar DataFrame manualmente\n",
    "header, *rows = data\n",
    "df = pd.DataFrame(rows, columns=header)\n"
   ]
  },
  {
   "cell_type": "code",
   "execution_count": 5,
   "id": "1f203b4e",
   "metadata": {},
   "outputs": [
    {
     "name": "stdout",
     "output_type": "stream",
     "text": [
      "(1465, 22)\n",
      "  ItemNumber  \\\n",
      "0          1   \n",
      "1          2   \n",
      "2          3   \n",
      "3          4   \n",
      "4          5   \n",
      "\n",
      "  frase                                                                                                                                                                                                                                                                                                                                                                                                                           \\\n",
      "0  Você sabia que o menino que mais vai te dar va...                                                                                                                                                                                                                                                                                                                                                                               \n",
      "1  Hoje com 21 anos, como que por auxilio lá do a...                                                                                                                                                                                                                                                                                                                                                                               \n",
      "2  Nesse momento to evitando ela, e ta me dando u...                                                                                                                                                                                                                                                                                                                                                                               \n",
      "3  Meus sentidos de garota diziam que tinha algum...                                                                                                                                                                                                                                                                                                                                                                               \n",
      "4  Aquela promessa que eu te fiz naquele natal, e...                                                                                                                                                                                                                                                                                                                                                                               \n",
      "\n",
      "   cla_maj_femi qtd_maj_femi  cla_maj_masc qtd_maj_masc  f1_class  f2_class  \\\n",
      "0  positiva                4  positiva                4  positiva  positiva   \n",
      "1  positiva                4  positiva                3  positiva  positiva   \n",
      "2  negativa                3  negativa                2  negativa  negativa   \n",
      "3  neutra                  2  neutra                  3  neutra    negativa   \n",
      "4  positiva                3  positiva                3  positiva  positiva   \n",
      "\n",
      "   f3_class  f4_class  ...  m3_class  m4_class f1_tempo f2_tempo f3_tempo  \\\n",
      "0  positiva  positiva  ...  positiva  positiva   30.117  293.973   21.735   \n",
      "1  positiva  positiva  ...  positiva  positiva   13.839  237.617   83.358   \n",
      "2  negativa  neutra    ...  negativa  neutra     15.344   13.894    8.584   \n",
      "3  neutra    positiva  ...  neutra    neutra     16.747   16.986   10.61    \n",
      "4  negativa  positiva  ...  positiva  neutra      8.405   14.191    3.9     \n",
      "\n",
      "  f4_tempo m1_tempo m2_tempo m3_tempo m4_tempo  \n",
      "0   39.664  105.63    16.967  299.204   14.928  \n",
      "1   24.249   22.499    9.802   11.472    6.073  \n",
      "2  133.325   20.098    8.17    16.59    13.952  \n",
      "3   10.337   33.871   11.848   22.167    9.798  \n",
      "4    5.129    8.789    3.306    5.719    4.554  \n",
      "\n",
      "[5 rows x 22 columns]\n",
      "Index(['ItemNumber',\n",
      "       'frase                                                                                                                                                                                                                                                                                                                                                                                                                         ',\n",
      "       'cla_maj_femi', 'qtd_maj_femi', 'cla_maj_masc', 'qtd_maj_masc',\n",
      "       'f1_class', 'f2_class', 'f3_class', 'f4_class', 'm1_class', 'm2_class',\n",
      "       'm3_class', 'm4_class', 'f1_tempo', 'f2_tempo', 'f3_tempo', 'f4_tempo',\n",
      "       'm1_tempo', 'm2_tempo', 'm3_tempo', 'm4_tempo'],\n",
      "      dtype='object')\n"
     ]
    }
   ],
   "source": [
    "# Verificar o tamanho do arquivo e as primeiras linhas\n",
    "print(df.shape)\n",
    "print(df.head())\n",
    "\n",
    "# Verificar as colunas disponíveis\n",
    "print(df.columns)"
   ]
  }
 ],
 "metadata": {
  "kernelspec": {
   "display_name": "Python 3",
   "language": "python",
   "name": "python3"
  },
  "language_info": {
   "codemirror_mode": {
    "name": "ipython",
    "version": 3
   },
   "file_extension": ".py",
   "mimetype": "text/x-python",
   "name": "python",
   "nbconvert_exporter": "python",
   "pygments_lexer": "ipython3",
   "version": "3.13.1"
  }
 },
 "nbformat": 4,
 "nbformat_minor": 5
}
