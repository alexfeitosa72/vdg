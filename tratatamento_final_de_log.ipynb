{
 "cells": [
  {
   "cell_type": "markdown",
   "id": "a2d2cc96",
   "metadata": {},
   "source": [
    "# Merge da juncao de logs com o arquvio randomizado de frases"
   ]
  },
  {
   "cell_type": "code",
   "execution_count": 1,
   "id": "811da2fb",
   "metadata": {},
   "outputs": [
    {
     "name": "stdout",
     "output_type": "stream",
     "text": [
      "Arquivo salvo em: dados/MQD_1465_final.csv\n"
     ]
    }
   ],
   "source": [
    "import pandas as pd # type: ignore\n",
    "import csv\n",
    "\n",
    "# Caminhos dos arquivos de entrada\n",
    "log_path = \"dados/MQD_1465_log_semfrases.csv\"\n",
    "randomizado_path = \"dados/MQD_1465_randomizado.csv\"\n",
    "\n",
    "# Leitura segura do arquivo randomizado com detecção de delimitador\n",
    "with open(randomizado_path, \"r\", encoding=\"utf-8\") as f:\n",
    "    sample = f.read(2048)\n",
    "\n",
    "sniffer = csv.Sniffer()\n",
    "dialect = sniffer.sniff(sample)\n",
    "\n",
    "df_randomizado = pd.read_csv(randomizado_path, sep=dialect.delimiter)\n",
    "df_log = pd.read_csv(log_path)\n",
    "\n",
    "# Garante a coluna ID_Random\n",
    "if \"ID_Random\" not in df_randomizado.columns:\n",
    "    df_randomizado.insert(0, \"ID_Random\", range(1, len(df_randomizado) + 1))\n",
    "\n",
    "# Merge pelo índice\n",
    "df_log_completo = pd.merge(\n",
    "    df_log,\n",
    "    df_randomizado[[\"ID_Random\", \"frase\"]],\n",
    "    left_on=\"ItemNumber\",\n",
    "    right_on=\"ID_Random\",\n",
    "    how=\"left\"\n",
    ")\n",
    "\n",
    "# Reorganiza as colunas\n",
    "colunas = df_log_completo.columns.tolist()\n",
    "idx_item = colunas.index(\"ItemNumber\")\n",
    "colunas_organizadas = colunas[:idx_item + 1] + [\"frase\"] + [col for col in colunas if col not in [\"ItemNumber\", \"frase\", \"ID_Random\"]]\n",
    "df_log_completo = df_log_completo[colunas_organizadas]\n",
    "\n",
    "# Salva o CSV com aspas apenas na coluna 'frase'\n",
    "output_path = \"dados/MQD_1465_final.csv\"\n",
    "with open(output_path, \"w\", encoding=\"utf-8\") as f:\n",
    "    f.write(\",\".join(df_log_completo.columns.tolist()) + \"\\n\")\n",
    "    for _, row in df_log_completo.iterrows():\n",
    "        linha = []\n",
    "        for col in df_log_completo.columns:\n",
    "            val = row[col]\n",
    "            if col == \"frase\":\n",
    "                val = str(val)\n",
    "                if not (val.startswith('\"') and val.endswith('\"')):\n",
    "                    val = f'\"{val}\"'\n",
    "            linha.append(str(val))\n",
    "        f.write(\",\".join(linha) + \"\\n\")\n",
    "\n",
    "print(\"Arquivo salvo em:\", output_path)"
   ]
  }
 ],
 "metadata": {
  "kernelspec": {
   "display_name": "Python 3",
   "language": "python",
   "name": "python3"
  },
  "language_info": {
   "codemirror_mode": {
    "name": "ipython",
    "version": 3
   },
   "file_extension": ".py",
   "mimetype": "text/x-python",
   "name": "python",
   "nbconvert_exporter": "python",
   "pygments_lexer": "ipython3",
   "version": "3.13.1"
  }
 },
 "nbformat": 4,
 "nbformat_minor": 5
}
