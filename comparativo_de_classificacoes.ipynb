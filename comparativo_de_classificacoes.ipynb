{
  "cells": [
    {
      "cell_type": "code",
      "execution_count": 1,
      "metadata": {
        "colab": {
          "base_uri": "https://localhost:8080/"
        },
        "id": "ggBWXWdluYHe",
        "outputId": "a0357447-e6d7-4dd5-df53-b16d6027dbf2"
      },
      "outputs": [
        {
          "name": "stdout",
          "output_type": "stream",
          "text": [
            "Colunas disponíveis:\n",
            "['ItemNumber', 'frase', 'cla_maj_femi', 'qtd_maj_femi', 'cla_maj_masc', 'qtd_maj_masc', 'f1_class', 'f2_class', 'f3_class', 'f4_class', 'm1_class', 'm2_class', 'm3_class', 'm4_class', 'f1_tempo', 'f2_tempo', 'f3_tempo', 'f4_tempo', 'm1_tempo', 'm2_tempo', 'm3_tempo', 'm4_tempo']\n",
            "Dimensões do DataFrame: (1465, 22)\n",
            "\n",
            "Primeiras linhas:\n",
            "   ItemNumber                                              frase cla_maj_femi  \\\n",
            "0           1  Você sabia que o menino que mais vai te dar va...     positiva   \n",
            "1           2  Hoje com 21 anos, como que por auxilio lá do a...     positiva   \n",
            "2           3  Nesse momento to evitando ela, e ta me dando u...     negativa   \n",
            "3           4  Meus sentidos de garota diziam que tinha algum...       neutra   \n",
            "4           5  Aquela promessa que eu te fiz naquele natal, e...     positiva   \n",
            "\n",
            "   qtd_maj_femi cla_maj_masc  qtd_maj_masc  f1_class  f2_class  f3_class  \\\n",
            "0             4     positiva             4  positiva  positiva  positiva   \n",
            "1             4     positiva             3  positiva  positiva  positiva   \n",
            "2             3     negativa             2  negativa  negativa  negativa   \n",
            "3             2       neutra             3    neutra  negativa    neutra   \n",
            "4             3     positiva             3  positiva  positiva  negativa   \n",
            "\n",
            "   f4_class  ...  m3_class  m4_class f1_tempo f2_tempo  f3_tempo  f4_tempo  \\\n",
            "0  positiva  ...  positiva  positiva   30.117  293.973    21.735    39.664   \n",
            "1  positiva  ...  positiva  positiva   13.839  237.617    83.358    24.249   \n",
            "2    neutra  ...  negativa    neutra   15.344   13.894     8.584   133.325   \n",
            "3  positiva  ...    neutra    neutra   16.747   16.986    10.610    10.337   \n",
            "4  positiva  ...  positiva    neutra    8.405   14.191     3.900     5.129   \n",
            "\n",
            "   m1_tempo  m2_tempo  m3_tempo  m4_tempo  \n",
            "0   105.630    16.967   299.204    14.928  \n",
            "1    22.499     9.802    11.472     6.073  \n",
            "2    20.098     8.170    16.590    13.952  \n",
            "3    33.871    11.848    22.167     9.798  \n",
            "4     8.789     3.306     5.719     4.554  \n",
            "\n",
            "[5 rows x 22 columns]\n",
            "\n",
            "Colunas disponíveis:\n",
            "['ItemNumber', 'frase', 'cla_maj_femi', 'qtd_maj_femi', 'cla_maj_masc', 'qtd_maj_masc', 'f1_class', 'f2_class', 'f3_class', 'f4_class', 'm1_class', 'm2_class', 'm3_class', 'm4_class', 'f1_tempo', 'f2_tempo', 'f3_tempo', 'f4_tempo', 'm1_tempo', 'm2_tempo', 'm3_tempo', 'm4_tempo']\n"
          ]
        }
      ],
      "source": [
        "import csv\n",
        "import pandas as pd\n",
        "from sklearn.model_selection import train_test_split\n",
        "from sklearn.feature_extraction.text import TfidfVectorizer\n",
        "from sklearn.linear_model import LogisticRegression\n",
        "from sklearn.metrics import classification_report\n",
        "\n",
        "# 1) Carrega os dados\n",
        "\n",
        "df = pd.read_csv(\n",
        "    \"dados/MQD_1465_final.csv\",\n",
        "    sep=',',              # separador de colunas\n",
        "    quoting=csv.QUOTE_ALL,# trata todos os campos como strings entre aspas\n",
        "    quotechar='\"',        # caractere de aspas\n",
        "    skipinitialspace=True, # remove espaços após as vírgulas,\n",
        "    encoding='utf-8'     # codificação do arquivo\n",
        ")\n",
        "\n",
        "df.columns = df.columns.str.strip() # remove espaços em branco dos nomes das colunas\n",
        "df = df.apply(lambda x: x.str.strip() if x.dtype == \"object\" else x)\n",
        "\n",
        "print(\"Colunas disponíveis:\")\n",
        "print(df.columns.tolist())  \n",
        "\n",
        "\n",
        "# Verificar o tamanho do arquivo e as primeiras linhas\n",
        "print(\"Dimensões do DataFrame:\", df.shape)\n",
        "print(\"\\nPrimeiras linhas:\")\n",
        "print(df.head())\n",
        "\n",
        "# Verificar nomes das colunas\n",
        "print(\"\\nColunas disponíveis:\")\n",
        "print(df.columns.tolist())\n",
        "\n"
      ]
    },
    {
      "cell_type": "code",
      "execution_count": 4,
      "metadata": {},
      "outputs": [
        {
          "name": "stdout",
          "output_type": "stream",
          "text": [
            "=== Modelo para cla_maj_masc ===\n",
            "              precision    recall  f1-score   support\n",
            "\n",
            "    negativa       0.60      0.60      0.60       103\n",
            "      neutra       0.47      0.14      0.21        66\n",
            "    positiva       0.56      0.77      0.65       124\n",
            "\n",
            "    accuracy                           0.57       293\n",
            "   macro avg       0.54      0.50      0.49       293\n",
            "weighted avg       0.56      0.57      0.53       293\n",
            "\n",
            "=== Modelo para cla_maj_femi ===\n",
            "              precision    recall  f1-score   support\n",
            "\n",
            "    negativa       0.54      0.52      0.53       106\n",
            "      neutra       0.40      0.34      0.37        85\n",
            "    positiva       0.53      0.62      0.57       102\n",
            "\n",
            "    accuracy                           0.50       293\n",
            "   macro avg       0.49      0.49      0.49       293\n",
            "weighted avg       0.50      0.50      0.50       293\n",
            "\n"
          ]
        }
      ],
      "source": [
        "\n",
        "# Ajuste das variaveis alvo  \n",
        "\n",
        "X = df[\"frase\"]                \n",
        "y_masc = df[\"cla_maj_masc\"]    # classificação masculino\n",
        "y_femi = df[\"cla_maj_femi\"]    # classificação feminina\n",
        "\n",
        "# Split único para manter as MESMAS frases e índices\n",
        "X_train, X_test, y_masc_train, y_masc_test, y_femi_train, y_femi_test = train_test_split(\n",
        "    X, y_masc, y_femi,\n",
        "    test_size=0.2,\n",
        "    random_state=42,\n",
        "    stratify=y_masc, # ou y_femi, dependendo de qual rótulo deseja estratificar\n",
        ")\n",
        "\n",
        "# 4) Vetorização TF-IDF do texto\n",
        "vectorizer = TfidfVectorizer()\n",
        "X_train_tfidf = vectorizer.fit_transform(X_train)\n",
        "X_test_tfidf  = vectorizer.transform(X_test)\n",
        "\n",
        "# Aplicando LogisticRegression sem ajuste de hiperparâmetros\n",
        "\n",
        "# --- MODELO MASCULINO ---\n",
        "clf_masc = LogisticRegression(random_state=42, max_iter=1000)\n",
        "clf_masc.fit(X_train_tfidf, y_masc_train)\n",
        "\n",
        "# Previsões para o conjunto de teste\n",
        "y_masc_pred = clf_masc.predict(X_test_tfidf)\n",
        "\n",
        "# Relatório de classificação\n",
        "print(\"=== Modelo para cla_maj_masc ===\")\n",
        "print(classification_report(y_masc_test, y_masc_pred))\n",
        "\n",
        "# --- MODELO FEMININO ---\n",
        "clf_femi = LogisticRegression(random_state=42, max_iter=1000)\n",
        "clf_femi.fit(X_train_tfidf, y_femi_train)\n",
        "\n",
        "# Previsões para o conjunto de teste\n",
        "y_femi_pred = clf_femi.predict(X_test_tfidf)\n",
        "\n",
        "# Relatório de classificação\n",
        "print(\"=== Modelo para cla_maj_femi ===\")\n",
        "print(classification_report(y_femi_test, y_femi_pred))\n"
      ]
    },
    {
      "cell_type": "code",
      "execution_count": 10,
      "metadata": {},
      "outputs": [
        {
          "data": {
            "image/png": "[encoded data removed]",
            "text/plain": [
              "<Figure size 1500x600 with 4 Axes>"
            ]
          },
          "metadata": {},
          "output_type": "display_data"
        }
      ],
      "source": [
        "import seaborn as sns\n",
        "from sklearn.metrics import confusion_matrix\n",
        "import numpy as np\n",
        "\n",
        "import matplotlib.pyplot as plt\n",
        "\n",
        "# Criar figura com dois subplots lado a lado\n",
        "fig, (ax1, ax2) = plt.subplots(1, 2, figsize=(15,6))\n",
        "\n",
        "# Matriz de confusão para classificação feminina\n",
        "cm_femi = confusion_matrix(y_femi_test, y_femi_pred)\n",
        "sns.heatmap(cm_femi, annot=True, fmt='d', cmap='Blues',\n",
        "            xticklabels=['negativa', 'neutra', 'positiva'],\n",
        "            yticklabels=['negativa', 'neutra', 'positiva'],\n",
        "            ax=ax1)\n",
        "ax1.set_title('Matriz de Confusão - Classificação Feminina')\n",
        "ax1.set_xlabel('Predito')\n",
        "ax1.set_ylabel('Real')\n",
        "\n",
        "# Matriz de confusão para classificação masculina\n",
        "cm_masc = confusion_matrix(y_masc_test, y_masc_pred)\n",
        "sns.heatmap(cm_masc, annot=True, fmt='d', cmap='Blues', \n",
        "            xticklabels=['negativa', 'neutra', 'positiva'],\n",
        "            yticklabels=['negativa', 'neutra', 'positiva'],\n",
        "            ax=ax2)\n",
        "ax2.set_title('Matriz de Confusão - Classificação Masculina')\n",
        "ax2.set_xlabel('Predito')\n",
        "ax2.set_ylabel('Real')\n",
        "\n",
        "\n",
        "plt.tight_layout()\n",
        "plt.show()"
      ]
    },
    {
      "cell_type": "code",
      "execution_count": 11,
      "metadata": {
        "vscode": {
          "languageId": "ruby"
        }
      },
      "outputs": [
        {
          "name": "stdout",
          "output_type": "stream",
          "text": [
            "\n",
            "Estatísticas de acertos:\n",
            "Total de casos: 293\n",
            "Acertos masculinos: 167\n",
            "Acertos femininos: 147\n",
            "Ambos acertaram: 110\n",
            "Ambos erraram: 89\n",
            "\n",
            "Exemplos de casos onde ambos acertaram:\n",
            "        id                                              frase real_masc  \\\n",
            "1045  1045  Já basta, não aguentando mais, eu discuti com ...  negativa   \n",
            "1365  1365  Meu coração acelera, minhas mãos ficam geladas...  positiva   \n",
            "413    413  Só você sabia que eu não chorava por ter ficad...  negativa   \n",
            "255    255  Fora que acordar com um eu te amo, torna o dia...  positiva   \n",
            "292    292            Para ser feliz não existe poção mágica.  positiva   \n",
            "\n",
            "     pred_masc  acerto_masc real_femi pred_femi  acerto_femi  ambos_acertaram  \\\n",
            "1045  negativa         True  negativa  negativa         True             True   \n",
            "1365  positiva         True  positiva  positiva         True             True   \n",
            "413   negativa         True  negativa  negativa         True             True   \n",
            "255   positiva         True  positiva  positiva         True             True   \n",
            "292   positiva         True  positiva  positiva         True             True   \n",
            "\n",
            "      ambos_erraram  \n",
            "1045          False  \n",
            "1365          False  \n",
            "413           False  \n",
            "255           False  \n",
            "292           False  \n"
          ]
        }
      ],
      "source": [
        "# Criar um DataFrame com os resultados para análise\n",
        "resultados_df = pd.DataFrame({\n",
        "    'id': X_test.index,\n",
        "    'frase': X_test,\n",
        "    'real_masc': y_masc_test,\n",
        "    'pred_masc': y_masc_pred,\n",
        "    'acerto_masc': y_masc_test == y_masc_pred,\n",
        "    'real_femi': y_femi_test, \n",
        "    'pred_femi': y_femi_pred,\n",
        "    'acerto_femi': y_femi_test == y_femi_pred\n",
        "})\n",
        "\n",
        "# Adicionar coluna indicando se ambos acertaram/erraram\n",
        "resultados_df['ambos_acertaram'] = resultados_df['acerto_masc'] & resultados_df['acerto_femi']\n",
        "resultados_df['ambos_erraram'] = ~resultados_df['acerto_masc'] & ~resultados_df['acerto_femi']\n",
        "\n",
        "# Exibir algumas estatísticas\n",
        "print(\"\\nEstatísticas de acertos:\")\n",
        "print(f\"Total de casos: {len(resultados_df)}\")\n",
        "print(f\"Acertos masculinos: {resultados_df['acerto_masc'].sum()}\")\n",
        "print(f\"Acertos femininos: {resultados_df['acerto_femi'].sum()}\")\n",
        "print(f\"Ambos acertaram: {resultados_df['ambos_acertaram'].sum()}\")\n",
        "print(f\"Ambos erraram: {resultados_df['ambos_erraram'].sum()}\")\n",
        "\n",
        "# Exibir algumas linhas do DataFrame para verificação\n",
        "print(\"\\nExemplos de casos onde ambos acertaram:\")\n",
        "print(resultados_df[resultados_df['ambos_acertaram']].head())"
      ]
    }
  ],
  "metadata": {
    "colab": {
      "provenance": []
    },
    "kernelspec": {
      "display_name": "Python 3",
      "name": "python3"
    },
    "language_info": {
      "codemirror_mode": {
        "name": "ipython",
        "version": 3
      },
      "file_extension": ".py",
      "mimetype": "text/x-python",
      "name": "python",
      "nbconvert_exporter": "python",
      "pygments_lexer": "ipython3",
      "version": "3.13.1"
    }
  },
  "nbformat": 4,
  "nbformat_minor": 0
}
