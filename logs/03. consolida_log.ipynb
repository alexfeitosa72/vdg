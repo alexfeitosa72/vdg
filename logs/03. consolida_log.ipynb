{
 "cells": [
  {
   "cell_type": "code",
   "execution_count": 3,
   "id": "0d3de29a",
   "metadata": {},
   "outputs": [
    {
     "name": "stdout",
     "output_type": "stream",
     "text": [
      "Arquivo criado com sucesso em: logs_em_tratamento\\logs_totais_tratados.csv\n",
      "Total de registros: 13485\n"
     ]
    }
   ],
   "source": [
    "import pandas as pd\n",
    "import os\n",
    "from pathlib import Path\n",
    "\n",
    "# Define o caminho da pasta\n",
    "logs_path = Path('logs_em_tratamento')\n",
    "\n",
    "# Lista todos os arquivos de bloco concatenados\n",
    "bloco_files = list(logs_path.glob('bloco_*_concatenado.csv'))\n",
    "\n",
    "# Cria uma lista para armazenar os DataFrames\n",
    "dfs = []\n",
    "\n",
    "# Lê cada arquivo mantendo a estrutura original\n",
    "for file in bloco_files:\n",
    "    df = pd.read_csv(file, sep='\\t')  # Remove a definição manual de colunas\n",
    "    dfs.append(df)\n",
    "\n",
    "# Concatena todos os DataFrames\n",
    "logs_totais_tratados = pd.concat(dfs, ignore_index=True)\n",
    "\n",
    "# Remove duplicatas se houver\n",
    "#logs_totais_tratados = logs_totais_tratados.drop_duplicates()\n",
    "\n",
    "# Salva o DataFrame consolidado mantendo o formato original\n",
    "output_file = logs_path / 'logs_totais_tratados.csv'\n",
    "logs_totais_tratados.to_csv(output_file, sep='\\t', index=False)  # Adiciona sep='\\t'\n",
    "\n",
    "print(f\"Arquivo criado com sucesso em: {output_file}\")\n",
    "print(f\"Total de registros: {len(logs_totais_tratados)}\")"
   ]
  }
 ],
 "metadata": {
  "kernelspec": {
   "display_name": "Python 3",
   "language": "python",
   "name": "python3"
  },
  "language_info": {
   "codemirror_mode": {
    "name": "ipython",
    "version": 3
   },
   "file_extension": ".py",
   "mimetype": "text/x-python",
   "name": "python",
   "nbconvert_exporter": "python",
   "pygments_lexer": "ipython3",
   "version": "3.13.1"
  }
 },
 "nbformat": 4,
 "nbformat_minor": 5
}
