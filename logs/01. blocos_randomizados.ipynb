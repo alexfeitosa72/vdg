{
 "cells": [
  {
   "cell_type": "markdown",
   "id": "11069ba4",
   "metadata": {},
   "source": [
    "### Verificação do arquivo original após a randomização"
   ]
  },
  {
   "cell_type": "code",
   "execution_count": 1,
   "id": "9e47e06c",
   "metadata": {},
   "outputs": [
    {
     "name": "stdout",
     "output_type": "stream",
     "text": [
      "Informações sobre o arquivo:\n",
      "Total de registros: 1465\n",
      "Total de colunas: 4\n",
      "\n",
      "Nomes das colunas:\n",
      "0: id\n",
      "1: frase\n",
      "2: classificacao\n",
      "3: juizes\n",
      "\n",
      "Amostra dos dados:\n",
      "     id                                              frase  classificacao  \\\n",
      "0  1039  Você sabia que o menino que mais vai te dar va...              1   \n",
      "1   213  Hoje com 21 anos, como que por auxilio lá do a...              0   \n",
      "2   314  Nesse momento to evitando ela, e ta me dando u...             -1   \n",
      "3   598  Meus sentidos de garota diziam que tinha algum...             -1   \n",
      "4   931  Aquela promessa que eu te fiz naquele natal, e...              1   \n",
      "\n",
      "   juizes  \n",
      "0       2  \n",
      "1       2  \n",
      "2       3  \n",
      "3       3  \n",
      "4       3  \n"
     ]
    }
   ],
   "source": [
    "import pandas as pd\n",
    "import numpy as np\n",
    "import csv\n",
    "\n",
    "def verificar_colunas():\n",
    "    \"\"\"\n",
    "    Verifica a estrutura do arquivo CSV, mostrando informações sobre as colunas\n",
    "    e garantindo que as vírgulas dentro das frases sejam protegidas.\n",
    "    \"\"\"\n",
    "    input_path = \"../dados/MQD_1465_randomizado.csv\"\n",
    "    \n",
    "    # Primeiro, vamos verificar a estrutura do arquivo\n",
    "    try:\n",
    "        # Lê o arquivo usando o parâmetro quoting para proteger campos entre aspas\n",
    "        df = pd.read_csv(\n",
    "            input_path,\n",
    "            sep='\\t',  # Usa tab como separador para evitar problemas com vírgulas\n",
    "            quoting=csv.QUOTE_ALL,\n",
    "            quotechar='\"',\n",
    "            encoding='utf-8'\n",
    "        )\n",
    "        \n",
    "        print(\"Informações sobre o arquivo:\")\n",
    "        print(f\"Total de registros: {len(df)}\")\n",
    "        print(f\"Total de colunas: {len(df.columns)}\")\n",
    "        \n",
    "        print(\"\\nNomes das colunas:\")\n",
    "        for i, col in enumerate(df.columns):\n",
    "            print(f\"{i}: {col}\")\n",
    "            \n",
    "        print(\"\\nAmostra dos dados:\")\n",
    "        print(df.head())\n",
    "\n",
    "        \n",
    "        return df\n",
    "        \n",
    "    except Exception as e:\n",
    "        print(f\"Erro ao ler o arquivo: {str(e)}\")\n",
    "        return None\n",
    "\n",
    "# Executa a verificação\n",
    "df = verificar_colunas()"
   ]
  },
  {
   "cell_type": "markdown",
   "id": "00f356c9",
   "metadata": {},
   "source": [
    "### Limpeza do arquivo randomizado com identificação dos blocos"
   ]
  },
  {
   "cell_type": "code",
   "execution_count": 1,
   "id": "fe5b49ed",
   "metadata": {},
   "outputs": [
    {
     "name": "stdout",
     "output_type": "stream",
     "text": [
      "Arquivo processado e salvo em: ../dados/MQD_1465_blocos_randomizados.csv\n",
      "Total de registros: 1465\n",
      "Total de blocos: 10\n",
      "\n",
      "Primeiras linhas do arquivo processado:\n",
      "   id  id_original                                              frase  bloco\n",
      "0   1         1039  Você sabia que o menino que mais vai te dar va...      1\n",
      "1   2          213  Hoje com 21 anos, como que por auxilio lá do a...      1\n",
      "2   3          314  Nesse momento to evitando ela, e ta me dando u...      1\n",
      "3   4          598  Meus sentidos de garota diziam que tinha algum...      1\n",
      "4   5          931  Aquela promessa que eu te fiz naquele natal, e...      1\n"
     ]
    }
   ],
   "source": [
    "import pandas as pd\n",
    "import csv\n",
    "\n",
    "def processar_arquivo_randomizado():\n",
    "    \"\"\"\n",
    "    Processa o arquivo randomizado aplicando as seguintes transformações:\n",
    "    1. Renomeia a coluna id para id_original\n",
    "    2. Cria novo id sequencial\n",
    "    3. Adiciona coluna de bloco (incremento a cada 150 registros)\n",
    "    \"\"\"\n",
    "    input_path = \"../dados/MQD_1465_randomizado.csv\"\n",
    "    \n",
    "    # Carrega arquivo usando tab como separador e protegendo aspas\n",
    "    df = pd.read_csv(\n",
    "        input_path,\n",
    "        sep='\\t',\n",
    "        usecols=['id', 'frase'],\n",
    "        quoting=csv.QUOTE_ALL,\n",
    "        quotechar='\"',\n",
    "        encoding='utf-8'\n",
    "    )\n",
    "    \n",
    "    # Renomear coluna id para id_original\n",
    "    df = df.rename(columns={'id': 'id_original'})\n",
    "    \n",
    "    # Criar novo id sequencial começando de 1\n",
    "    df.insert(0, 'id', range(1, len(df) + 1))\n",
    "    \n",
    "    # Criar coluna de bloco (incremento a cada 150 registros)\n",
    "    df['bloco'] = (df.index // 150) + 1\n",
    "    \n",
    "    # Salvar novo arquivo mantendo as aspas e usando tab como separador\n",
    "    output_path = \"../dados/MQD_1465_blocos_randomizados.csv\"\n",
    "    df.to_csv(\n",
    "        output_path,\n",
    "        sep='\\t',\n",
    "        index=False,\n",
    "        quoting=csv.QUOTE_ALL,\n",
    "        quotechar='\"'\n",
    "    )\n",
    "    \n",
    "    print(f\"Arquivo processado e salvo em: {output_path}\")\n",
    "    print(f\"Total de registros: {len(df)}\")\n",
    "    print(f\"Total de blocos: {df['bloco'].max()}\")\n",
    "    \n",
    "    print(\"\\nPrimeiras linhas do arquivo processado:\")\n",
    "    print(df.head())\n",
    "    \n",
    "    return df\n",
    "\n",
    "# Executar processamento\n",
    "df_blocos_randomizados = processar_arquivo_randomizado()"
   ]
  }
 ],
 "metadata": {
  "kernelspec": {
   "display_name": "Python 3",
   "language": "python",
   "name": "python3"
  },
  "language_info": {
   "codemirror_mode": {
    "name": "ipython",
    "version": 3
   },
   "file_extension": ".py",
   "mimetype": "text/x-python",
   "name": "python",
   "nbconvert_exporter": "python",
   "pygments_lexer": "ipython3",
   "version": "3.13.1"
  }
 },
 "nbformat": 4,
 "nbformat_minor": 5
}
