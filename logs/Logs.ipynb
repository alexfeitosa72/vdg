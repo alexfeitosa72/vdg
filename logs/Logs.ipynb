{
 "cells": [
  {
   "cell_type": "markdown",
   "metadata": {},
   "source": [
    "# Pipeline de Processamento de Logs\n",
    "Este notebook demonstra o uso do pipeline unificado de processamento de logs."
   ]
  },
  {
   "cell_type": "code",
   "execution_count": 1,
   "metadata": {},
   "outputs": [],
   "source": [
    "from log_processor import (\n",
    "    Paths,\n",
    "    consolidate_logs,\n",
    "    split_by_gender,\n",
    "    aggregate_data,\n",
    "    find_ties,\n",
    "    remove_ties,\n",
    "    get_removed_ties\n",
    ")\n",
    "import pandas as pd\n",
    "\n",
    "# Configurando o pandas para mostrar todas as colunas\n",
    "pd.set_option('display.max_columns', None)"
   ]
  },
  {
   "cell_type": "markdown",
   "metadata": {},
   "source": [
    "## 1. Consolidação dos Logs\n",
    "Primeiro, vamos consolidar todos os arquivos de log em um único DataFrame"
   ]
  },
  {
   "cell_type": "code",
   "execution_count": 2,
   "metadata": {},
   "outputs": [
    {
     "name": "stdout",
     "output_type": "stream",
     "text": [
      "Total de registros consolidados: 13485\n",
      "\n",
      "Primeiras linhas dos dados consolidados:\n"
     ]
    },
    {
     "data": {
      "text/html": [
       "<div>\n",
       "<style scoped>\n",
       "    .dataframe tbody tr th:only-of-type {\n",
       "        vertical-align: middle;\n",
       "    }\n",
       "\n",
       "    .dataframe tbody tr th {\n",
       "        vertical-align: top;\n",
       "    }\n",
       "\n",
       "    .dataframe thead th {\n",
       "        text-align: right;\n",
       "    }\n",
       "</style>\n",
       "<table border=\"1\" class=\"dataframe\">\n",
       "  <thead>\n",
       "    <tr style=\"text-align: right;\">\n",
       "      <th></th>\n",
       "      <th>ParticipantMD5</th>\n",
       "      <th>GeneroCod</th>\n",
       "      <th>frase</th>\n",
       "      <th>Value</th>\n",
       "      <th>duracao</th>\n",
       "    </tr>\n",
       "  </thead>\n",
       "  <tbody>\n",
       "    <tr>\n",
       "      <th>0</th>\n",
       "      <td>bc2584302fffead698e1809107a60040</td>\n",
       "      <td>m</td>\n",
       "      <td>Já são mais de 5 anos que sofro deste mal, per...</td>\n",
       "      <td>negativa</td>\n",
       "      <td>73.202</td>\n",
       "    </tr>\n",
       "    <tr>\n",
       "      <th>1</th>\n",
       "      <td>bc2584302fffead698e1809107a60040</td>\n",
       "      <td>m</td>\n",
       "      <td>Ja estou no limite para chegar a cima do peso.</td>\n",
       "      <td>negativa</td>\n",
       "      <td>2.940</td>\n",
       "    </tr>\n",
       "    <tr>\n",
       "      <th>2</th>\n",
       "      <td>bc2584302fffead698e1809107a60040</td>\n",
       "      <td>m</td>\n",
       "      <td>Comprei meu livro.</td>\n",
       "      <td>neutra</td>\n",
       "      <td>1.464</td>\n",
       "    </tr>\n",
       "    <tr>\n",
       "      <th>3</th>\n",
       "      <td>bc2584302fffead698e1809107a60040</td>\n",
       "      <td>m</td>\n",
       "      <td>Confesso que aquilo me dava um prazer quase qu...</td>\n",
       "      <td>positiva</td>\n",
       "      <td>5.582</td>\n",
       "    </tr>\n",
       "    <tr>\n",
       "      <th>4</th>\n",
       "      <td>bc2584302fffead698e1809107a60040</td>\n",
       "      <td>m</td>\n",
       "      <td>Mais uma vez eu to aqui me lamentando, eu esto...</td>\n",
       "      <td>negativa</td>\n",
       "      <td>4.070</td>\n",
       "    </tr>\n",
       "  </tbody>\n",
       "</table>\n",
       "</div>"
      ],
      "text/plain": [
       "                     ParticipantMD5 GeneroCod  \\\n",
       "0  bc2584302fffead698e1809107a60040         m   \n",
       "1  bc2584302fffead698e1809107a60040         m   \n",
       "2  bc2584302fffead698e1809107a60040         m   \n",
       "3  bc2584302fffead698e1809107a60040         m   \n",
       "4  bc2584302fffead698e1809107a60040         m   \n",
       "\n",
       "                                               frase     Value  duracao  \n",
       "0  Já são mais de 5 anos que sofro deste mal, per...  negativa   73.202  \n",
       "1     Ja estou no limite para chegar a cima do peso.  negativa    2.940  \n",
       "2                                 Comprei meu livro.    neutra    1.464  \n",
       "3  Confesso que aquilo me dava um prazer quase qu...  positiva    5.582  \n",
       "4  Mais uma vez eu to aqui me lamentando, eu esto...  negativa    4.070  "
      ]
     },
     "metadata": {},
     "output_type": "display_data"
    }
   ],
   "source": [
    "# Inicializa os caminhos\n",
    "paths = Paths()\n",
    "\n",
    "# Consolida os logs\n",
    "df_consolidated = consolidate_logs(paths)\n",
    "\n",
    "print(f\"Total de registros consolidados: {len(df_consolidated)}\")\n",
    "print(\"\\nPrimeiras linhas dos dados consolidados:\")\n",
    "display(df_consolidated.head())"
   ]
  },
  {
   "cell_type": "markdown",
   "metadata": {},
   "source": [
    "## 2. Separação por Gênero\n",
    "Agora vamos separar os dados por gênero e analisar as distribuições"
   ]
  },
  {
   "cell_type": "code",
   "execution_count": 3,
   "metadata": {},
   "outputs": [
    {
     "name": "stdout",
     "output_type": "stream",
     "text": [
      "Registros masculinos: 7025\n",
      "Registros femininos: 6460\n",
      "\n",
      "Distribuição de classificações - Masculino:\n"
     ]
    },
    {
     "data": {
      "text/plain": [
       "Value\n",
       "positiva    2813\n",
       "negativa    2386\n",
       "neutra      1826\n",
       "Name: count, dtype: int64"
      ]
     },
     "metadata": {},
     "output_type": "display_data"
    },
    {
     "name": "stdout",
     "output_type": "stream",
     "text": [
      "\n",
      "Distribuição de classificações - Feminino:\n"
     ]
    },
    {
     "data": {
      "text/plain": [
       "Value\n",
       "neutra      2249\n",
       "negativa    2162\n",
       "positiva    2049\n",
       "Name: count, dtype: int64"
      ]
     },
     "metadata": {},
     "output_type": "display_data"
    }
   ],
   "source": [
    "# Separa os dados por gênero\n",
    "df_male, df_female = split_by_gender(df_consolidated)\n",
    "\n",
    "# Exibe estatísticas básicas\n",
    "print(f\"Registros masculinos: {len(df_male)}\")\n",
    "print(f\"Registros femininos: {len(df_female)}\")\n",
    "\n",
    "# Análise adicional - distribuição de classificações por gênero\n",
    "print(\"\\nDistribuição de classificações - Masculino:\")\n",
    "display(df_male['Value'].value_counts())\n",
    "\n",
    "print(\"\\nDistribuição de classificações - Feminino:\")\n",
    "display(df_female['Value'].value_counts())"
   ]
  },
  {
   "cell_type": "markdown",
   "metadata": {},
   "source": [
    "## 3. Agregação dos Dados\n",
    "Vamos agregar os dados por frase e analisar os resultados"
   ]
  },
  {
   "cell_type": "code",
   "execution_count": 4,
   "metadata": {},
   "outputs": [
    {
     "name": "stdout",
     "output_type": "stream",
     "text": [
      "Dados agregados - Masculino:\n"
     ]
    },
    {
     "data": {
      "text/html": [
       "<div>\n",
       "<style scoped>\n",
       "    .dataframe tbody tr th:only-of-type {\n",
       "        vertical-align: middle;\n",
       "    }\n",
       "\n",
       "    .dataframe tbody tr th {\n",
       "        vertical-align: top;\n",
       "    }\n",
       "\n",
       "    .dataframe thead th {\n",
       "        text-align: right;\n",
       "    }\n",
       "</style>\n",
       "<table border=\"1\" class=\"dataframe\">\n",
       "  <thead>\n",
       "    <tr style=\"text-align: right;\">\n",
       "      <th></th>\n",
       "      <th>frase</th>\n",
       "      <th>duracao_media</th>\n",
       "      <th>total_classificacoes</th>\n",
       "      <th>classificacao_majoritaria</th>\n",
       "      <th>total_positiva</th>\n",
       "      <th>total_negativa</th>\n",
       "      <th>total_neutra</th>\n",
       "    </tr>\n",
       "  </thead>\n",
       "  <tbody>\n",
       "    <tr>\n",
       "      <th>0</th>\n",
       "      <td>A história fala de três amigas gordinhas, que...</td>\n",
       "      <td>8.46725</td>\n",
       "      <td>4</td>\n",
       "      <td>negativa</td>\n",
       "      <td>1</td>\n",
       "      <td>3</td>\n",
       "      <td>0</td>\n",
       "    </tr>\n",
       "    <tr>\n",
       "      <th>1</th>\n",
       "      <td>Ainda mais que tudo que tá acontecendo ultima...</td>\n",
       "      <td>5.56780</td>\n",
       "      <td>5</td>\n",
       "      <td>neutra</td>\n",
       "      <td>1</td>\n",
       "      <td>0</td>\n",
       "      <td>4</td>\n",
       "    </tr>\n",
       "    <tr>\n",
       "      <th>2</th>\n",
       "      <td>Amo você mais do que a mim mesma, afinal você...</td>\n",
       "      <td>2.92420</td>\n",
       "      <td>5</td>\n",
       "      <td>positiva</td>\n",
       "      <td>5</td>\n",
       "      <td>0</td>\n",
       "      <td>0</td>\n",
       "    </tr>\n",
       "    <tr>\n",
       "      <th>3</th>\n",
       "      <td>Ela fica jogando na minha cara que eu não sei...</td>\n",
       "      <td>8.11675</td>\n",
       "      <td>4</td>\n",
       "      <td>negativa</td>\n",
       "      <td>0</td>\n",
       "      <td>4</td>\n",
       "      <td>0</td>\n",
       "    </tr>\n",
       "    <tr>\n",
       "      <th>4</th>\n",
       "      <td>Ele sempre esteve do meu lado e o que eu mais...</td>\n",
       "      <td>8.63960</td>\n",
       "      <td>5</td>\n",
       "      <td>positiva</td>\n",
       "      <td>3</td>\n",
       "      <td>2</td>\n",
       "      <td>0</td>\n",
       "    </tr>\n",
       "  </tbody>\n",
       "</table>\n",
       "</div>"
      ],
      "text/plain": [
       "                                               frase  duracao_media  \\\n",
       "0   A história fala de três amigas gordinhas, que...        8.46725   \n",
       "1   Ainda mais que tudo que tá acontecendo ultima...        5.56780   \n",
       "2   Amo você mais do que a mim mesma, afinal você...        2.92420   \n",
       "3   Ela fica jogando na minha cara que eu não sei...        8.11675   \n",
       "4   Ele sempre esteve do meu lado e o que eu mais...        8.63960   \n",
       "\n",
       "   total_classificacoes classificacao_majoritaria  total_positiva  \\\n",
       "0                     4                  negativa               1   \n",
       "1                     5                    neutra               1   \n",
       "2                     5                  positiva               5   \n",
       "3                     4                  negativa               0   \n",
       "4                     5                  positiva               3   \n",
       "\n",
       "   total_negativa  total_neutra  \n",
       "0               3             0  \n",
       "1               0             4  \n",
       "2               0             0  \n",
       "3               4             0  \n",
       "4               2             0  "
      ]
     },
     "metadata": {},
     "output_type": "display_data"
    },
    {
     "name": "stdout",
     "output_type": "stream",
     "text": [
      "\n",
      "Dados agregados - Feminino:\n"
     ]
    },
    {
     "data": {
      "text/html": [
       "<div>\n",
       "<style scoped>\n",
       "    .dataframe tbody tr th:only-of-type {\n",
       "        vertical-align: middle;\n",
       "    }\n",
       "\n",
       "    .dataframe tbody tr th {\n",
       "        vertical-align: top;\n",
       "    }\n",
       "\n",
       "    .dataframe thead th {\n",
       "        text-align: right;\n",
       "    }\n",
       "</style>\n",
       "<table border=\"1\" class=\"dataframe\">\n",
       "  <thead>\n",
       "    <tr style=\"text-align: right;\">\n",
       "      <th></th>\n",
       "      <th>frase</th>\n",
       "      <th>duracao_media</th>\n",
       "      <th>total_classificacoes</th>\n",
       "      <th>classificacao_majoritaria</th>\n",
       "      <th>total_positiva</th>\n",
       "      <th>total_negativa</th>\n",
       "      <th>total_neutra</th>\n",
       "    </tr>\n",
       "  </thead>\n",
       "  <tbody>\n",
       "    <tr>\n",
       "      <th>0</th>\n",
       "      <td>A história fala de três amigas gordinhas, que...</td>\n",
       "      <td>15.22775</td>\n",
       "      <td>4</td>\n",
       "      <td>neutra</td>\n",
       "      <td>1</td>\n",
       "      <td>1</td>\n",
       "      <td>2</td>\n",
       "    </tr>\n",
       "    <tr>\n",
       "      <th>1</th>\n",
       "      <td>Ainda mais que tudo que tá acontecendo ultima...</td>\n",
       "      <td>9.77775</td>\n",
       "      <td>4</td>\n",
       "      <td>neutra</td>\n",
       "      <td>1</td>\n",
       "      <td>0</td>\n",
       "      <td>3</td>\n",
       "    </tr>\n",
       "    <tr>\n",
       "      <th>2</th>\n",
       "      <td>Amo você mais do que a mim mesma, afinal você...</td>\n",
       "      <td>4.31850</td>\n",
       "      <td>4</td>\n",
       "      <td>empate</td>\n",
       "      <td>2</td>\n",
       "      <td>2</td>\n",
       "      <td>0</td>\n",
       "    </tr>\n",
       "    <tr>\n",
       "      <th>3</th>\n",
       "      <td>Ela fica jogando na minha cara que eu não sei...</td>\n",
       "      <td>7.99550</td>\n",
       "      <td>4</td>\n",
       "      <td>negativa</td>\n",
       "      <td>0</td>\n",
       "      <td>4</td>\n",
       "      <td>0</td>\n",
       "    </tr>\n",
       "    <tr>\n",
       "      <th>4</th>\n",
       "      <td>Ele sempre esteve do meu lado e o que eu mais...</td>\n",
       "      <td>9.44850</td>\n",
       "      <td>4</td>\n",
       "      <td>empate</td>\n",
       "      <td>2</td>\n",
       "      <td>2</td>\n",
       "      <td>0</td>\n",
       "    </tr>\n",
       "  </tbody>\n",
       "</table>\n",
       "</div>"
      ],
      "text/plain": [
       "                                               frase  duracao_media  \\\n",
       "0   A história fala de três amigas gordinhas, que...       15.22775   \n",
       "1   Ainda mais que tudo que tá acontecendo ultima...        9.77775   \n",
       "2   Amo você mais do que a mim mesma, afinal você...        4.31850   \n",
       "3   Ela fica jogando na minha cara que eu não sei...        7.99550   \n",
       "4   Ele sempre esteve do meu lado e o que eu mais...        9.44850   \n",
       "\n",
       "   total_classificacoes classificacao_majoritaria  total_positiva  \\\n",
       "0                     4                    neutra               1   \n",
       "1                     4                    neutra               1   \n",
       "2                     4                    empate               2   \n",
       "3                     4                  negativa               0   \n",
       "4                     4                    empate               2   \n",
       "\n",
       "   total_negativa  total_neutra  \n",
       "0               1             2  \n",
       "1               0             3  \n",
       "2               2             0  \n",
       "3               4             0  \n",
       "4               2             0  "
      ]
     },
     "metadata": {},
     "output_type": "display_data"
    },
    {
     "name": "stdout",
     "output_type": "stream",
     "text": [
      "\n",
      "Distribuição das classificações majoritárias - Masculino:\n"
     ]
    },
    {
     "data": {
      "text/plain": [
       "classificacao_majoritaria\n",
       "positiva    561\n",
       "negativa    477\n",
       "neutra      284\n",
       "empate      141\n",
       "Name: count, dtype: int64"
      ]
     },
     "metadata": {},
     "output_type": "display_data"
    },
    {
     "name": "stdout",
     "output_type": "stream",
     "text": [
      "\n",
      "Distribuição das classificações majoritárias - Feminino:\n"
     ]
    },
    {
     "data": {
      "text/plain": [
       "classificacao_majoritaria\n",
       "negativa    470\n",
       "positiva    447\n",
       "neutra      372\n",
       "empate      174\n",
       "Name: count, dtype: int64"
      ]
     },
     "metadata": {},
     "output_type": "display_data"
    }
   ],
   "source": [
    "# Agrega os dados\n",
    "male_agg = aggregate_data(df_male)\n",
    "female_agg = aggregate_data(df_female)\n",
    "\n",
    "print(\"Dados agregados - Masculino:\")\n",
    "display(male_agg.head())\n",
    "\n",
    "print(\"\\nDados agregados - Feminino:\")\n",
    "display(female_agg.head())\n",
    "\n",
    "# Análise adicional - distribuição das classificações majoritárias\n",
    "print(\"\\nDistribuição das classificações majoritárias - Masculino:\")\n",
    "display(male_agg['classificacao_majoritaria'].value_counts())\n",
    "\n",
    "print(\"\\nDistribuição das classificações majoritárias - Feminino:\")\n",
    "display(female_agg['classificacao_majoritaria'].value_counts())"
   ]
  },
  {
   "cell_type": "markdown",
   "metadata": {},
   "source": [
    "## 4. Análise de Empates e Remoção\n",
    "Vamos remover as frases que tiveram empate na classificação majoritária e analisar os resultados\n"
   ]
  },
  {
   "cell_type": "code",
   "execution_count": 5,
   "metadata": {},
   "outputs": [
    {
     "name": "stdout",
     "output_type": "stream",
     "text": [
      "Total de frases após remoção de empates:\n",
      "Masculino: 1322 (removidas 141)\n",
      "Feminino: 1289 (removidas 174)\n",
      "\n",
      "Distribuição das classificações após remoção de empates - Masculino:\n"
     ]
    },
    {
     "data": {
      "text/plain": [
       "classificacao_majoritaria\n",
       "positiva    561\n",
       "negativa    477\n",
       "neutra      284\n",
       "Name: count, dtype: int64"
      ]
     },
     "metadata": {},
     "output_type": "display_data"
    },
    {
     "name": "stdout",
     "output_type": "stream",
     "text": [
      "\n",
      "Distribuição das classificações após remoção de empates - Feminino:\n"
     ]
    },
    {
     "data": {
      "text/plain": [
       "classificacao_majoritaria\n",
       "negativa    470\n",
       "positiva    447\n",
       "neutra      372\n",
       "Name: count, dtype: int64"
      ]
     },
     "metadata": {},
     "output_type": "display_data"
    }
   ],
   "source": [
    "# Remove empates dos dados agregados\n",
    "male_agg_no_ties = remove_ties(male_agg)\n",
    "female_agg_no_ties = remove_ties(female_agg)\n",
    "\n",
    "print(\"Total de frases após remoção de empates:\")\n",
    "print(f\"Masculino: {len(male_agg_no_ties)} (removidas {len(male_agg) - len(male_agg_no_ties)})\")\n",
    "print(f\"Feminino: {len(female_agg_no_ties)} (removidas {len(female_agg) - len(female_agg_no_ties)})\")\n",
    "\n",
    "print(\"\\nDistribuição das classificações após remoção de empates - Masculino:\")\n",
    "display(male_agg_no_ties['classificacao_majoritaria'].value_counts())\n",
    "\n",
    "print(\"\\nDistribuição das classificações após remoção de empates - Feminino:\")\n",
    "display(female_agg_no_ties['classificacao_majoritaria'].value_counts())"
   ]
  },
  {
   "cell_type": "markdown",
   "metadata": {},
   "source": [
    "## 5. Análise das Frases Removidas\n",
    "Vamos analisar as frases que foram removidas por terem empate"
   ]
  },
  {
   "cell_type": "code",
   "execution_count": 6,
   "metadata": {},
   "outputs": [
    {
     "name": "stdout",
     "output_type": "stream",
     "text": [
      "Total de frases removidas por empate: 289\n",
      "\n",
      "Exemplos de frases removidas:\n"
     ]
    },
    {
     "data": {
      "text/html": [
       "<div>\n",
       "<style scoped>\n",
       "    .dataframe tbody tr th:only-of-type {\n",
       "        vertical-align: middle;\n",
       "    }\n",
       "\n",
       "    .dataframe tbody tr th {\n",
       "        vertical-align: top;\n",
       "    }\n",
       "\n",
       "    .dataframe thead th {\n",
       "        text-align: right;\n",
       "    }\n",
       "</style>\n",
       "<table border=\"1\" class=\"dataframe\">\n",
       "  <thead>\n",
       "    <tr style=\"text-align: right;\">\n",
       "      <th></th>\n",
       "      <th>frase</th>\n",
       "      <th>empate_masculino</th>\n",
       "      <th>empate_feminino</th>\n",
       "      <th>total_positiva_m</th>\n",
       "      <th>total_negativa_m</th>\n",
       "      <th>total_neutra_m</th>\n",
       "      <th>total_positiva_f</th>\n",
       "      <th>total_negativa_f</th>\n",
       "      <th>total_neutra_f</th>\n",
       "    </tr>\n",
       "  </thead>\n",
       "  <tbody>\n",
       "    <tr>\n",
       "      <th>0</th>\n",
       "      <td>Pior que só tem ele lá no horário que vou, e ...</td>\n",
       "      <td>Sim</td>\n",
       "      <td>Não</td>\n",
       "      <td>2</td>\n",
       "      <td>2</td>\n",
       "      <td>1</td>\n",
       "      <td>0</td>\n",
       "      <td>1</td>\n",
       "      <td>3</td>\n",
       "    </tr>\n",
       "    <tr>\n",
       "      <th>1</th>\n",
       "      <td>A aula de português estava chata.</td>\n",
       "      <td>Sim</td>\n",
       "      <td>Não</td>\n",
       "      <td>2</td>\n",
       "      <td>0</td>\n",
       "      <td>2</td>\n",
       "      <td>4</td>\n",
       "      <td>0</td>\n",
       "      <td>1</td>\n",
       "    </tr>\n",
       "    <tr>\n",
       "      <th>2</th>\n",
       "      <td>A maturidade bateu em minha porta cedo, eu tin...</td>\n",
       "      <td>Sim</td>\n",
       "      <td>Não</td>\n",
       "      <td>1</td>\n",
       "      <td>2</td>\n",
       "      <td>2</td>\n",
       "      <td>0</td>\n",
       "      <td>4</td>\n",
       "      <td>0</td>\n",
       "    </tr>\n",
       "    <tr>\n",
       "      <th>3</th>\n",
       "      <td>A verdade é que sou intensa demais e não há qu...</td>\n",
       "      <td>Sim</td>\n",
       "      <td>Sim</td>\n",
       "      <td>2</td>\n",
       "      <td>0</td>\n",
       "      <td>2</td>\n",
       "      <td>0</td>\n",
       "      <td>2</td>\n",
       "      <td>2</td>\n",
       "    </tr>\n",
       "    <tr>\n",
       "      <th>4</th>\n",
       "      <td>Achei uma solução, ou melhor, na minha cabeça ...</td>\n",
       "      <td>Sim</td>\n",
       "      <td>Sim</td>\n",
       "      <td>2</td>\n",
       "      <td>0</td>\n",
       "      <td>2</td>\n",
       "      <td>2</td>\n",
       "      <td>0</td>\n",
       "      <td>2</td>\n",
       "    </tr>\n",
       "  </tbody>\n",
       "</table>\n",
       "</div>"
      ],
      "text/plain": [
       "                                               frase empate_masculino  \\\n",
       "0   Pior que só tem ele lá no horário que vou, e ...              Sim   \n",
       "1                  A aula de português estava chata.              Sim   \n",
       "2  A maturidade bateu em minha porta cedo, eu tin...              Sim   \n",
       "3  A verdade é que sou intensa demais e não há qu...              Sim   \n",
       "4  Achei uma solução, ou melhor, na minha cabeça ...              Sim   \n",
       "\n",
       "  empate_feminino  total_positiva_m  total_negativa_m  total_neutra_m  \\\n",
       "0             Não                 2                 2               1   \n",
       "1             Não                 2                 0               2   \n",
       "2             Não                 1                 2               2   \n",
       "3             Sim                 2                 0               2   \n",
       "4             Sim                 2                 0               2   \n",
       "\n",
       "   total_positiva_f  total_negativa_f  total_neutra_f  \n",
       "0                 0                 1               3  \n",
       "1                 4                 0               1  \n",
       "2                 0                 4               0  \n",
       "3                 0                 2               2  \n",
       "4                 2                 0               2  "
      ]
     },
     "metadata": {},
     "output_type": "display_data"
    },
    {
     "name": "stdout",
     "output_type": "stream",
     "text": [
      "\n",
      "Distribuição dos empates:\n"
     ]
    },
    {
     "data": {
      "text/plain": [
       "Empate apenas masculino    115\n",
       "Empate apenas feminino     148\n",
       "Empate em ambos             26\n",
       "dtype: int64"
      ]
     },
     "metadata": {},
     "output_type": "display_data"
    }
   ],
   "source": [
    "# Obtém informações sobre as frases removidas\n",
    "removed_ties_df = get_removed_ties(male_agg, female_agg)\n",
    "\n",
    "print(f\"Total de frases removidas por empate: {len(removed_ties_df)}\")\n",
    "print(\"\\nExemplos de frases removidas:\")\n",
    "display(removed_ties_df.head())\n",
    "\n",
    "# Análise adicional das frases removidas\n",
    "print(\"\\nDistribuição dos empates:\")\n",
    "empate_stats = {\n",
    "    'Empate apenas masculino': ((removed_ties_df['empate_masculino'] == 'Sim') & (removed_ties_df['empate_feminino'] == 'Não')).sum(),\n",
    "    'Empate apenas feminino': ((removed_ties_df['empate_masculino'] == 'Não') & (removed_ties_df['empate_feminino'] == 'Sim')).sum(),\n",
    "    'Empate em ambos': ((removed_ties_df['empate_masculino'] == 'Sim') & (removed_ties_df['empate_feminino'] == 'Sim')).sum()\n",
    "}\n",
    "display(pd.Series(empate_stats))"
   ]
  },
  {
   "cell_type": "markdown",
   "metadata": {},
   "source": [
    "## 6. Salvando os Resultados\n",
    "Salva todos os DataFrames processados em arquivos CSV"
   ]
  },
  {
   "cell_type": "code",
   "execution_count": 7,
   "metadata": {},
   "outputs": [
    {
     "name": "stdout",
     "output_type": "stream",
     "text": [
      "Todos os arquivos foram salvos com sucesso!\n",
      "- logs_em_tratamento\\logs_totais_tratados.csv\n",
      "- logs_em_tratamento\\logs_masculino.csv\n",
      "- logs_em_tratamento\\logs_feminino.csv\n",
      "- logs_em_tratamento\\logs_masculino_agregado.csv\n",
      "- logs_em_tratamento\\logs_feminino_agregado.csv\n",
      "- logs_em_tratamento\\logs_masculino_agregado_sem_empates.csv\n",
      "- logs_em_tratamento\\logs_feminino_agregado_sem_empates.csv\n",
      "- logs_em_tratamento\\frases_removidas_por_empate.csv\n"
     ]
    }
   ],
   "source": [
    "# Salva todos os resultados\n",
    "df_consolidated.to_csv(paths.consolidated, sep='\\t', index=False)\n",
    "df_male.to_csv(paths.male, sep='\\t', index=False)\n",
    "df_female.to_csv(paths.female, sep='\\t', index=False)\n",
    "male_agg.to_csv(paths.male_agg, sep='\\t', index=False)\n",
    "female_agg.to_csv(paths.female_agg, sep='\\t', index=False)\n",
    "male_agg_no_ties.to_csv(paths.male_agg_no_ties, sep='\\t', index=False)\n",
    "female_agg_no_ties.to_csv(paths.female_agg_no_ties, sep='\\t', index=False)\n",
    "removed_ties_df.to_csv(paths.removed_ties, sep='\\t', index=False)\n",
    "\n",
    "print(\"Todos os arquivos foram salvos com sucesso!\")\n",
    "for path in [paths.consolidated, paths.male, paths.female, \n",
    "            paths.male_agg, paths.female_agg, paths.male_agg_no_ties,\n",
    "            paths.female_agg_no_ties, paths.removed_ties]:\n",
    "    print(f\"- {path}\")"
   ]
  }
 ],
 "metadata": {
  "kernelspec": {
   "display_name": "Python 3",
   "language": "python",
   "name": "python3"
  },
  "language_info": {
   "codemirror_mode": {
    "name": "ipython",
    "version": 3
   },
   "file_extension": ".py",
   "mimetype": "text/x-python",
   "name": "python",
   "nbconvert_exporter": "python",
   "pygments_lexer": "ipython3",
   "version": "3.13.1"
  }
 },
 "nbformat": 4,
 "nbformat_minor": 2
}
