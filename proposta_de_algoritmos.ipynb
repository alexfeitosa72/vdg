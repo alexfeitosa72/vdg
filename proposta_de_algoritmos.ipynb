{
  "cells": [
    {
      "cell_type": "code",
      "execution_count": null,
      "metadata": {
        "colab": {
          "base_uri": "https://localhost:8080/"
        },
        "id": "ggBWXWdluYHe",
        "outputId": "a0357447-e6d7-4dd5-df53-b16d6027dbf2"
      },
      "outputs": [
        {
          "ename": "KeyError",
          "evalue": "'frase'",
          "output_type": "error",
          "traceback": [
            "\u001b[31m---------------------------------------------------------------------------\u001b[39m",
            "\u001b[31mKeyError\u001b[39m                                  Traceback (most recent call last)",
            "\u001b[36mFile \u001b[39m\u001b[32mc:\\Users\\Alex Feitosa\\AppData\\Local\\Programs\\Python\\Python313\\Lib\\site-packages\\pandas\\core\\indexes\\base.py:3805\u001b[39m, in \u001b[36mIndex.get_loc\u001b[39m\u001b[34m(self, key)\u001b[39m\n\u001b[32m   3804\u001b[39m \u001b[38;5;28;01mtry\u001b[39;00m:\n\u001b[32m-> \u001b[39m\u001b[32m3805\u001b[39m     \u001b[38;5;28;01mreturn\u001b[39;00m \u001b[38;5;28;43mself\u001b[39;49m\u001b[43m.\u001b[49m\u001b[43m_engine\u001b[49m\u001b[43m.\u001b[49m\u001b[43mget_loc\u001b[49m\u001b[43m(\u001b[49m\u001b[43mcasted_key\u001b[49m\u001b[43m)\u001b[49m\n\u001b[32m   3806\u001b[39m \u001b[38;5;28;01mexcept\u001b[39;00m \u001b[38;5;167;01mKeyError\u001b[39;00m \u001b[38;5;28;01mas\u001b[39;00m err:\n",
            "\u001b[36mFile \u001b[39m\u001b[32mindex.pyx:167\u001b[39m, in \u001b[36mpandas._libs.index.IndexEngine.get_loc\u001b[39m\u001b[34m()\u001b[39m\n",
            "\u001b[36mFile \u001b[39m\u001b[32mindex.pyx:196\u001b[39m, in \u001b[36mpandas._libs.index.IndexEngine.get_loc\u001b[39m\u001b[34m()\u001b[39m\n",
            "\u001b[36mFile \u001b[39m\u001b[32mpandas\\\\_libs\\\\hashtable_class_helper.pxi:7081\u001b[39m, in \u001b[36mpandas._libs.hashtable.PyObjectHashTable.get_item\u001b[39m\u001b[34m()\u001b[39m\n",
            "\u001b[36mFile \u001b[39m\u001b[32mpandas\\\\_libs\\\\hashtable_class_helper.pxi:7089\u001b[39m, in \u001b[36mpandas._libs.hashtable.PyObjectHashTable.get_item\u001b[39m\u001b[34m()\u001b[39m\n",
            "\u001b[31mKeyError\u001b[39m: 'frase'",
            "\nThe above exception was the direct cause of the following exception:\n",
            "\u001b[31mKeyError\u001b[39m                                  Traceback (most recent call last)",
            "\u001b[36mCell\u001b[39m\u001b[36m \u001b[39m\u001b[32mIn[2]\u001b[39m\u001b[32m, line 15\u001b[39m\n\u001b[32m      8\u001b[39m df = pd.read_csv(\u001b[33m\"\u001b[39m\u001b[33mlog_tratado_completo.csv\u001b[39m\u001b[33m\"\u001b[39m)\n\u001b[32m     10\u001b[39m \u001b[38;5;66;03m# 2) Vamos assumir que existam colunas:\u001b[39;00m\n\u001b[32m     11\u001b[39m \u001b[38;5;66;03m#    - 'frase' (texto original ou tratado)\u001b[39;00m\n\u001b[32m     12\u001b[39m \u001b[38;5;66;03m#    - 'cla_maj_masc' (rótulo majoritário masculino: 'positiva', 'negativa', 'neutra')\u001b[39;00m\n\u001b[32m     13\u001b[39m \u001b[38;5;66;03m#    - 'cla_maj_femi' (rótulo majoritário feminino: 'positiva', 'negativa', 'neutra')\u001b[39;00m\n\u001b[32m---> \u001b[39m\u001b[32m15\u001b[39m X = \u001b[43mdf\u001b[49m\u001b[43m[\u001b[49m\u001b[33;43m\"\u001b[39;49m\u001b[33;43mfrase\u001b[39;49m\u001b[33;43m\"\u001b[39;49m\u001b[43m]\u001b[49m                \u001b[38;5;66;03m# Features (texto)\u001b[39;00m\n\u001b[32m     16\u001b[39m y_masc = df[\u001b[33m\"\u001b[39m\u001b[33mcla_maj_masc\u001b[39m\u001b[33m\"\u001b[39m]    \u001b[38;5;66;03m# Rótulos masculinos\u001b[39;00m\n\u001b[32m     17\u001b[39m y_femi = df[\u001b[33m\"\u001b[39m\u001b[33mcla_maj_femi\u001b[39m\u001b[33m\"\u001b[39m]    \u001b[38;5;66;03m# Rótulos femininos\u001b[39;00m\n",
            "\u001b[36mFile \u001b[39m\u001b[32mc:\\Users\\Alex Feitosa\\AppData\\Local\\Programs\\Python\\Python313\\Lib\\site-packages\\pandas\\core\\frame.py:4102\u001b[39m, in \u001b[36mDataFrame.__getitem__\u001b[39m\u001b[34m(self, key)\u001b[39m\n\u001b[32m   4100\u001b[39m \u001b[38;5;28;01mif\u001b[39;00m \u001b[38;5;28mself\u001b[39m.columns.nlevels > \u001b[32m1\u001b[39m:\n\u001b[32m   4101\u001b[39m     \u001b[38;5;28;01mreturn\u001b[39;00m \u001b[38;5;28mself\u001b[39m._getitem_multilevel(key)\n\u001b[32m-> \u001b[39m\u001b[32m4102\u001b[39m indexer = \u001b[38;5;28;43mself\u001b[39;49m\u001b[43m.\u001b[49m\u001b[43mcolumns\u001b[49m\u001b[43m.\u001b[49m\u001b[43mget_loc\u001b[49m\u001b[43m(\u001b[49m\u001b[43mkey\u001b[49m\u001b[43m)\u001b[49m\n\u001b[32m   4103\u001b[39m \u001b[38;5;28;01mif\u001b[39;00m is_integer(indexer):\n\u001b[32m   4104\u001b[39m     indexer = [indexer]\n",
            "\u001b[36mFile \u001b[39m\u001b[32mc:\\Users\\Alex Feitosa\\AppData\\Local\\Programs\\Python\\Python313\\Lib\\site-packages\\pandas\\core\\indexes\\base.py:3812\u001b[39m, in \u001b[36mIndex.get_loc\u001b[39m\u001b[34m(self, key)\u001b[39m\n\u001b[32m   3807\u001b[39m     \u001b[38;5;28;01mif\u001b[39;00m \u001b[38;5;28misinstance\u001b[39m(casted_key, \u001b[38;5;28mslice\u001b[39m) \u001b[38;5;129;01mor\u001b[39;00m (\n\u001b[32m   3808\u001b[39m         \u001b[38;5;28misinstance\u001b[39m(casted_key, abc.Iterable)\n\u001b[32m   3809\u001b[39m         \u001b[38;5;129;01mand\u001b[39;00m \u001b[38;5;28many\u001b[39m(\u001b[38;5;28misinstance\u001b[39m(x, \u001b[38;5;28mslice\u001b[39m) \u001b[38;5;28;01mfor\u001b[39;00m x \u001b[38;5;129;01min\u001b[39;00m casted_key)\n\u001b[32m   3810\u001b[39m     ):\n\u001b[32m   3811\u001b[39m         \u001b[38;5;28;01mraise\u001b[39;00m InvalidIndexError(key)\n\u001b[32m-> \u001b[39m\u001b[32m3812\u001b[39m     \u001b[38;5;28;01mraise\u001b[39;00m \u001b[38;5;167;01mKeyError\u001b[39;00m(key) \u001b[38;5;28;01mfrom\u001b[39;00m\u001b[38;5;250m \u001b[39m\u001b[34;01merr\u001b[39;00m\n\u001b[32m   3813\u001b[39m \u001b[38;5;28;01mexcept\u001b[39;00m \u001b[38;5;167;01mTypeError\u001b[39;00m:\n\u001b[32m   3814\u001b[39m     \u001b[38;5;66;03m# If we have a listlike key, _check_indexing_error will raise\u001b[39;00m\n\u001b[32m   3815\u001b[39m     \u001b[38;5;66;03m#  InvalidIndexError. Otherwise we fall through and re-raise\u001b[39;00m\n\u001b[32m   3816\u001b[39m     \u001b[38;5;66;03m#  the TypeError.\u001b[39;00m\n\u001b[32m   3817\u001b[39m     \u001b[38;5;28mself\u001b[39m._check_indexing_error(key)\n",
            "\u001b[31mKeyError\u001b[39m: 'frase'"
          ]
        }
      ],
      "source": [
        "import pandas as pd\n",
        "from sklearn.model_selection import train_test_split\n",
        "from sklearn.feature_extraction.text import TfidfVectorizer\n",
        "from sklearn.linear_model import LogisticRegression\n",
        "from sklearn.metrics import classification_report\n",
        "\n",
        "# 1) Carrega os dados\n",
        "df = pd.read_csv(\"dados/log_tratado_completo.csv\")\n",
        "\n",
        "# 2) Vamos assumir que existam colunas:\n",
        "#    - 'frase' (texto original ou tratado)\n",
        "#    - 'cla_maj_masc' (rótulo majoritário masculino: 'positiva', 'negativa', 'neutra')\n",
        "#    - 'cla_maj_femi' (rótulo majoritário feminino: 'positiva', 'negativa', 'neutra')\n",
        "\n",
        "X = df[\"frase\"]                # Features (texto)\n",
        "y_masc = df[\"cla_maj_masc\"]    # Rótulos masculinos\n",
        "y_femi = df[\"cla_maj_femi\"]    # Rótulos femininos\n",
        "\n",
        "# 3) Split único para manter as MESMAS frases e índices\n",
        "# Repare que passamos y_masc e y_femi ao mesmo tempo.\n",
        "X_train, X_test, y_masc_train, y_masc_test, y_femi_train, y_femi_test = train_test_split(\n",
        "    X, y_masc, y_femi,\n",
        "    test_size=0.2,\n",
        "    random_state=42,\n",
        "    stratify=y_masc  # ou y_femi, dependendo de qual rótulo deseja estratificar\n",
        ")\n",
        "\n",
        "# 4) Vetorização TF-IDF do texto\n",
        "vectorizer = TfidfVectorizer()\n",
        "X_train_tfidf = vectorizer.fit_transform(X_train)\n",
        "X_test_tfidf  = vectorizer.transform(X_test)\n",
        "\n",
        "# 5) Modelo recomendado: LogisticRegression (rápido, boa performance e interpretável).\n",
        "#    Você pode ajustar parâmetros conforme necessário (ex: solver, regularização, etc.).\n",
        "\n",
        "# --- MODELO MASCULINO ---\n",
        "clf_masc = LogisticRegression(random_state=42, max_iter=1000)\n",
        "clf_masc.fit(X_train_tfidf, y_masc_train)\n",
        "\n",
        "# Previsões para o conjunto de teste\n",
        "y_masc_pred = clf_masc.predict(X_test_tfidf)\n",
        "\n",
        "# Relatório de classificação\n",
        "print(\"=== Modelo para cla_maj_masc ===\")\n",
        "print(classification_report(y_masc_test, y_masc_pred))\n",
        "\n",
        "# --- MODELO FEMININO ---\n",
        "clf_femi = LogisticRegression(random_state=42, max_iter=1000)\n",
        "clf_femi.fit(X_train_tfidf, y_femi_train)\n",
        "\n",
        "# Previsões para o conjunto de teste\n",
        "y_femi_pred = clf_femi.predict(X_test_tfidf)\n",
        "\n",
        "# Relatório de classificação\n",
        "print(\"=== Modelo para cla_maj_femi ===\")\n",
        "print(classification_report(y_femi_test, y_femi_pred))\n"
      ]
    }
  ],
  "metadata": {
    "colab": {
      "provenance": []
    },
    "kernelspec": {
      "display_name": "Python 3",
      "name": "python3"
    },
    "language_info": {
      "codemirror_mode": {
        "name": "ipython",
        "version": 3
      },
      "file_extension": ".py",
      "mimetype": "text/x-python",
      "name": "python",
      "nbconvert_exporter": "python",
      "pygments_lexer": "ipython3",
      "version": "3.13.1"
    }
  },
  "nbformat": 4,
  "nbformat_minor": 0
}
